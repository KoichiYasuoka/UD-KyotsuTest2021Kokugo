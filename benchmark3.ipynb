{
  "nbformat":4,
  "nbformat_minor":0,
  "metadata":{
    "colab":{ "name":"共通テスト2021『国語』問題文Universal Dependencies" },
    "kernelspec":{ "name":"python3" }
  },
  "cells":[
    {
      "cell_type":"markdown",
      "metadata":{ "colab_type":"text" },
      "source":[
        "# [共通テスト2021『国語』問題文Universal Dependencies](https://github.com/KoichiYasuoka/UD-KyotsuTest2021Kokugo)\n"
      ]
    },
    {
      "cell_type":"markdown",
      "metadata":{ "colab_type":"text" },
      "source":[
        "## 第3問ベンチマーク\n"
      ]
    },
    {
      "cell_type":"markdown",
      "metadata":{ "colab_type":"text" },
      "source":[
        "### UniDic2UD\n"
      ]
    },
    {
      "cell_type":"code",
      "metadata":{ "colab_type":"code" },
      "source":[
        "!test -d UD-KyotsuTest2021Kokugo || git clone --depth=1 https://github.com/KoichiYasuoka/UD-KyotsuTest2021Kokugo\n",
        "!pip install unidic2ud\n",
        "!sh UD-KyotsuTest2021Kokugo/spacy.sh unidic2ud.spacy 'load(\"wabun\")' UD-KyotsuTest2021Kokugo/question3.conllu\n",
        "!sh UD-KyotsuTest2021Kokugo/spacy.sh unidic2ud.spacy 'load(\"wakan\")' UD-KyotsuTest2021Kokugo/question3.conllu\n",
        "print(\"### done.\")"
      ]
    },
    {
      "cell_type":"markdown",
      "metadata":{ "colab_type":"text" },
      "source":[
        "### UniDic-COMBO\n"
      ]
    },
    {
      "cell_type":"code",
      "metadata":{ "colab_type":"code" },
      "source":[
        "!test -d UD-KyotsuTest2021Kokugo || git clone --depth=1 https://github.com/KoichiYasuoka/UD-KyotsuTest2021Kokugo\n",
        "!pip install unidic_combo\n",
        "!sh UD-KyotsuTest2021Kokugo/spacy.sh unidic_combo 'load(UniDic=\"wabun\",BERT=True)' UD-KyotsuTest2021Kokugo/question3.conllu\n",
        "!sh UD-KyotsuTest2021Kokugo/spacy.sh unidic_combo 'load(UniDic=\"wakan\",BERT=True)' UD-KyotsuTest2021Kokugo/question3.conllu\n",
        "!sh UD-KyotsuTest2021Kokugo/spacy.sh unidic_combo 'load(UniDic=\"wabun\",BERT=False)' UD-KyotsuTest2021Kokugo/question3.conllu\n",
        "!sh UD-KyotsuTest2021Kokugo/spacy.sh unidic_combo 'load(UniDic=\"wakan\",BERT=False)' UD-KyotsuTest2021Kokugo/question3.conllu\n",
        "print(\"### done.\")"
      ]
    },
    {
      "cell_type":"markdown",
      "metadata":{ "colab_type":"text" },
      "source":[
        "### SuPar-UniDic\n"
      ]
    },
    {
      "cell_type":"code",
      "metadata":{ "colab_type":"code" },
      "source":[
        "!test -d UD-KyotsuTest2021Kokugo || git clone --depth=1 https://github.com/KoichiYasuoka/UD-KyotsuTest2021Kokugo\n",
        "!pip install supar@git+https://github.com/yzhangcs/parser\n",
        "!pip install suparunidic fugashi ipadic sentencepiece\n",
        "!sh UD-KyotsuTest2021Kokugo/spacy.sh suparunidic 'load(UniDic=\"wabun\",BERT=\"bert-japanese-aozora6m3m-unidic32k-2m\")' UD-KyotsuTest2021Kokugo/question3.conllu\n",
        "!sh UD-KyotsuTest2021Kokugo/spacy.sh suparunidic 'load(UniDic=\"wakan\",BERT=\"bert-japanese-aozora6m3m-unidic32k-2m\")' UD-KyotsuTest2021Kokugo/question3.conllu\n",
        "!sh UD-KyotsuTest2021Kokugo/spacy.sh suparunidic 'load(UniDic=\"wabun\",BERT=\"bert-base-japanese-char\")' UD-KyotsuTest2021Kokugo/question3.conllu\n",
        "!sh UD-KyotsuTest2021Kokugo/spacy.sh suparunidic 'load(UniDic=\"wakan\",BERT=\"bert-base-japanese-char\")' UD-KyotsuTest2021Kokugo/question3.conllu\n",
        "!sh UD-KyotsuTest2021Kokugo/spacy.sh suparunidic 'load(UniDic=\"wabun\",BERT=\"bert-base-japanese-whole-word-masking\")' UD-KyotsuTest2021Kokugo/question3.conllu\n",
        "!sh UD-KyotsuTest2021Kokugo/spacy.sh suparunidic 'load(UniDic=\"wakan\",BERT=\"bert-base-japanese-whole-word-masking\")' UD-KyotsuTest2021Kokugo/question3.conllu\n",
        "!sh UD-KyotsuTest2021Kokugo/spacy.sh suparunidic 'load(UniDic=\"wabun\",BERT=\"electra-small-japanese-generator\")' UD-KyotsuTest2021Kokugo/question3.conllu\n",
        "!sh UD-KyotsuTest2021Kokugo/spacy.sh suparunidic 'load(UniDic=\"wakan\",BERT=\"electra-small-japanese-generator\")' UD-KyotsuTest2021Kokugo/question3.conllu\n",
        "!sh UD-KyotsuTest2021Kokugo/spacy.sh suparunidic 'load(UniDic=\"wabun\",BERT=\"ku-bert-japanese-large\")' UD-KyotsuTest2021Kokugo/question3.conllu\n",
        "!sh UD-KyotsuTest2021Kokugo/spacy.sh suparunidic 'load(UniDic=\"wakan\",BERT=\"ku-bert-japanese-large\")' UD-KyotsuTest2021Kokugo/question3.conllu\n",
        "!sh UD-KyotsuTest2021Kokugo/spacy.sh suparunidic 'load(UniDic=\"wabun\",BERT=\"laboro-bert-japanese-large\")' UD-KyotsuTest2021Kokugo/question3.conllu\n",
        "!sh UD-KyotsuTest2021Kokugo/spacy.sh suparunidic 'load(UniDic=\"wakan\",BERT=\"laboro-bert-japanese-large\")' UD-KyotsuTest2021Kokugo/question3.conllu\n",
        "!sh UD-KyotsuTest2021Kokugo/spacy.sh suparunidic 'load(UniDic=\"wabun\",BERT=\"nict-bert-base-japanese-100k\")' UD-KyotsuTest2021Kokugo/question3.conllu\n",
        "!sh UD-KyotsuTest2021Kokugo/spacy.sh suparunidic 'load(UniDic=\"wakan\",BERT=\"nict-bert-base-japanese-100k\")' UD-KyotsuTest2021Kokugo/question3.conllu\n",
        "!sh UD-KyotsuTest2021Kokugo/spacy.sh suparunidic 'load(UniDic=\"wabun\",BERT=\"albert-japanese-v2\")' UD-KyotsuTest2021Kokugo/question3.conllu\n",
        "!sh UD-KyotsuTest2021Kokugo/spacy.sh suparunidic 'load(UniDic=\"wakan\",BERT=\"albert-japanese-v2\")' UD-KyotsuTest2021Kokugo/question3.conllu\n",
        "!sh UD-KyotsuTest2021Kokugo/spacy.sh suparunidic 'load(UniDic=\"wabun\",BERT=\"unihanlm-base\")' UD-KyotsuTest2021Kokugo/question3.conllu\n",
        "!sh UD-KyotsuTest2021Kokugo/spacy.sh suparunidic 'load(UniDic=\"wakan\",BERT=\"unihanlm-base\")' UD-KyotsuTest2021Kokugo/question3.conllu\n",
        "!sh UD-KyotsuTest2021Kokugo/spacy.sh suparunidic 'load(UniDic=\"wabun\",BERT=\"distilbert-base-japanese\")' UD-KyotsuTest2021Kokugo/question3.conllu\n",
        "!sh UD-KyotsuTest2021Kokugo/spacy.sh suparunidic 'load(UniDic=\"wakan\",BERT=\"distilbert-base-japanese\")' UD-KyotsuTest2021Kokugo/question3.conllu\n",
        "print(\"### done.\")"
      ]
    }
  ]
}

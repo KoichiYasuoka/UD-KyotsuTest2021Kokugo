{
  "nbformat":4,
  "nbformat_minor":0,
  "metadata":{
    "colab":{ "name":"共通テスト2021『国語』問題文Universal Dependencies" },
    "kernelspec":{ "name":"python3" }
  },
  "cells":[
    {
      "cell_type":"markdown",
      "metadata":{ "colab_type":"text" },
      "source":[
        "# [共通テスト2021『国語』問題文Universal Dependencies](https://github.com/KoichiYasuoka/UD-KyotsuTest2021Kokugo)\n"
      ]
    },
    {
      "cell_type":"markdown",
      "metadata":{ "colab_type":"text" },
      "source":[
        "## 第3問ベンチマーク\n"
      ]
    },
    {
      "cell_type":"markdown",
      "metadata":{ "colab_type":"text" },
      "source":[
        "* UniDic2UD\n"
      ]
    },
    {
      "cell_type":"code",
      "metadata":{ "colab_type":"code" },
      "source":[
        "!test -d UD-KyotsuTest2021Kokugo || git clone --depth=1 https://github.com/KoichiYasuoka/UD-KyotsuTest2021Kokugo\n",
        "!pip install unidic2ud\n",
        "!sh UD-KyotsuTest2021Kokugyo/spacy.sh unidic2ud.spacy 'load(\"wabun\")' UD-KyotsuTest2021Kokugo/question3.conllu\n",
        "!sh UD-KyotsuTest2021Kokugyo/spacy.sh unidic2ud.spacy 'load(\"wakan\")' UD-KyotsuTest2021Kokugo/question3.conllu\n"
      ]
    }
  ]
}

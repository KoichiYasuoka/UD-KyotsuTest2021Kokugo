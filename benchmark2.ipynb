{
  "nbformat":4,
  "nbformat_minor":0,
  "metadata":{
    "colab":{ "name":"共通テスト2021『国語』問題文Universal Dependencies" },
    "kernelspec":{ "name":"python3" }
  },
  "cells":[
    {
      "cell_type":"markdown",
      "metadata":{ "colab_type":"text" },
      "source":[
        "# [共通テスト2021『国語』問題文Universal Dependencies](https://github.com/KoichiYasuoka/UD-KyotsuTest2021Kokugo)\n"
      ]
    },
    {
      "cell_type":"markdown",
      "metadata":{ "colab_type":"text" },
      "source":[
        "## 第2問ベンチマーク\n"
      ]
    },
    {
      "cell_type":"markdown",
      "metadata":{ "colab_type":"text" },
      "source":[
        "### UniDic2UD\n"
      ]
    },
    {
      "cell_type":"code",
      "metadata":{ "colab_type":"code" },
      "source":[
        "!test -d UD-KyotsuTest2021Kokugo || git clone --depth=1 https://github.com/KoichiYasuoka/UD-KyotsuTest2021Kokugo\n",
        "!pip install unidic2ud\n",
        "!sh UD-KyotsuTest2021Kokugo/spacy.sh unidic2ud.spacy 'load(\"kindai\")' UD-KyotsuTest2021Kokugo/question2.conllu\n",
        "!sh UD-KyotsuTest2021Kokugo/spacy.sh unidic2ud.spacy 'load(\"gendai\")' UD-KyotsuTest2021Kokugo/question2.conllu\n",
        "print(\"### done.\")"
      ]
    },
    {
      "cell_type":"markdown",
      "metadata":{ "colab_type":"text" },
      "source":[
        "### UniDic-COMBO\n"
      ]
    },
    {
      "cell_type":"code",
      "metadata":{ "colab_type":"code" },
      "source":[
        "!test -d UD-KyotsuTest2021Kokugo || git clone --depth=1 https://github.com/KoichiYasuoka/UD-KyotsuTest2021Kokugo\n",
        "!pip install unidic_combo\n",
        "!sh UD-KyotsuTest2021Kokugo/spacy.sh unidic_combo 'load(UniDic=\"kindai\",BERT=True)' UD-KyotsuTest2021Kokugo/question2.conllu\n",
        "!sh UD-KyotsuTest2021Kokugo/spacy.sh unidic_combo 'load(UniDic=\"gendai\",BERT=True)' UD-KyotsuTest2021Kokugo/question2.conllu\n",
        "!sh UD-KyotsuTest2021Kokugo/spacy.sh unidic_combo 'load(UniDic=\"kindai\",BERT=False)' UD-KyotsuTest2021Kokugo/question2.conllu\n",
        "!sh UD-KyotsuTest2021Kokugo/spacy.sh unidic_combo 'load(UniDic=\"gendai\",BERT=False)' UD-KyotsuTest2021Kokugo/question2.conllu\n",
        "print(\"### done.\")"
      ]
    },
    {
      "cell_type":"markdown",
      "metadata":{ "colab_type":"text" },
      "source":[
        "### spaCy-ChaPAS\n"
      ]
    },
    {
      "cell_type":"code",
      "metadata":{ "colab_type":"code" },
      "source":[
        "!test -d UD-KyotsuTest2021Kokugo || git clone --depth=1 https://github.com/KoichiYasuoka/UD-KyotsuTest2021Kokugo\n",
        "!apt update\n",
        "!apt install mecab libmecab-dev mecab-ipadic-utf8 openjdk-8-jre-headless\n",
        "!test -f crfpp.tar.gz || curl -L 'https://drive.google.com/uc?export=download&id=0B4y35FiV1wh7QVR6VXJ5dWExSTQ' -o crfpp.tar.gz \n",
        "!test -d CRF++-0.58 || ( tar xzf crfpp.tar.gz && cd CRF++-0.58 && ./configure --prefix=/usr && make install )\n",
        "!curl -sc cabocha.cookie 'https://drive.google.com/uc?export=download&id=0B4y35FiV1wh7SDd1Q1dUQkZQaUU' > /dev/null\n",
        "!test -f cabocha.tar.bz2 || curl -Lb cabocha.cookie 'https://drive.google.com/uc?export=download&id=0B4y35FiV1wh7SDd1Q1dUQkZQaUU&confirm='`tr -d '\\015' < cabocha.cookie | awk '/_warning_/{print $NF}'` -o cabocha.tar.bz2\n",
        "!test -d cabocha-0.69 || ( tar xjf cabocha.tar.bz2 && cd cabocha-0.69 && ./configure --prefix=/usr --with-charset=UTF8 && make install )\n",
        "!curl -sc chapas.cookie 'https://drive.google.com/uc?export=download&id=0BwG_CvJHq43fNDlqSkVSREkzaEk' > /dev/null\n",
        "!test -f chapas.tar.gz || curl -Lb chapas.cookie 'https://drive.google.com/uc?export=download&id=0BwG_CvJHq43fNDlqSkVSREkzaEk&confirm='`tr -d '\\015' < chapas.cookie | awk '/_warning_/{print $NF}'` -o chapas.tar.gz\n",
        "!test -d chapas-0.742 || ( tar xzf chapas.tar.gz && echo exec /usr/lib/jvm/j*-1.8.*/bin/java -Xmx1g -jar /content/chapas-0.742/chapas.jar '\"$@\"' > /usr/bin/chapas && chmod 755 /usr/bin/chapas )\n",
        "!pip install spacy_chapas\n",
        "!sh UD-KyotsuTest2021Kokugo/spacy.sh spacy_chapas 'load(\"kindai\")' UD-KyotsuTest2021Kokugo/question2.conllu\n",
        "!sh UD-KyotsuTest2021Kokugo/spacy.sh spacy_chapas 'load(\"gendai\")' UD-KyotsuTest2021Kokugo/question2.conllu\n",
        "print(\"### done.\")"
      ]
    },
    {
      "cell_type":"markdown",
      "metadata":{ "colab_type":"text" },
      "source":[
        "### spaCy-SynCha\n"
      ]
    },
    {
      "cell_type":"code",
      "metadata":{ "colab_type":"code" },
      "source":[
        "!test -d UD-KyotsuTest2021Kokugo || git clone --depth=1 https://github.com/KoichiYasuoka/UD-KyotsuTest2021Kokugo\n",
        "!apt install mecab libmecab-dev mecab-ipadic-utf8 lp-solve\n",
        "!test -f crfpp.tar.gz || curl -L 'https://drive.google.com/uc?export=download&id=0B4y35FiV1wh7QVR6VXJ5dWExSTQ' -o crfpp.tar.gz \n",
        "!test -d CRF++-0.58 || ( tar xzf crfpp.tar.gz && cd CRF++-0.58 && ./configure --prefix=/usr && make install )\n",
        "!curl -sc cabocha.cookie 'https://drive.google.com/uc?export=download&id=0B4y35FiV1wh7SDd1Q1dUQkZQaUU' > /dev/null\n",
        "!test -f cabocha.tar.bz2 || curl -Lb cabocha.cookie 'https://drive.google.com/uc?export=download&id=0B4y35FiV1wh7SDd1Q1dUQkZQaUU&confirm='`tr -d '\\015' < cabocha.cookie | awk '/_warning_/{print $NF}'` -o cabocha.tar.bz2\n",
        "!test -d cabocha-0.69 || ( tar xjf cabocha.tar.bz2 && cd cabocha-0.69 && ./configure --prefix=/usr --with-charset=UTF8 && make install )\n",
        "!test -f syncha.tar.gz || curl -L 'https://drive.google.com/uc?export=download&id=0B4wOZ_esMVcMazQ0eGdtMnBCaWs' -o syncha.tar.gz\n",
        "!test -d syncha-0.3.1.1 || ( tar xzf syncha.tar.gz && echo 'exec /content/syncha-0.3.1.1/syncha \"$@\"' > /usr/bin/syncha && chmod 755 /usr/bin/syncha )\n",
        "!pip install spacy_syncha\n",
        "!sh UD-KyotsuTest2021Kokugo/spacy.sh spacy_syncha 'load(\"kindai\")' UD-KyotsuTest2021Kokugo/question2.conllu\n",
        "!sh UD-KyotsuTest2021Kokugo/spacy.sh spacy_syncha 'load(\"gendai\")' UD-KyotsuTest2021Kokugo/question2.conllu\n",
        "print(\"### done.\")"
      ]
    },
    {
      "cell_type":"markdown",
      "metadata":{ "colab_type":"text" },
      "source":[
        "### SuPar-UniDic\n"
      ]
    },
    {
      "cell_type":"code",
      "metadata":{ "colab_type":"code" },
      "source":[
        "!test -d UD-KyotsuTest2021Kokugo || git clone --depth=1 https://github.com/KoichiYasuoka/UD-KyotsuTest2021Kokugo\n",
        "!pip install supar@git+https://github.com/yzhangcs/parser\n",
        "!pip install suparunidic fugashi ipadic sentencepiece\n",
        "!sh UD-KyotsuTest2021Kokugo/spacy.sh suparunidic 'load(UniDic=\"kindai\",BERT=\"bert-japanese-aozora6m3m-unidic32k-2m\")' UD-KyotsuTest2021Kokugo/question2.conllu\n",
        "!sh UD-KyotsuTest2021Kokugo/spacy.sh suparunidic 'load(UniDic=\"gendai\",BERT=\"bert-japanese-aozora6m3m-unidic32k-2m\")' UD-KyotsuTest2021Kokugo/question2.conllu\n",
        "!sh UD-KyotsuTest2021Kokugo/spacy.sh suparunidic 'load(UniDic=\"kindai\",BERT=\"bert-base-japanese-char\")' UD-KyotsuTest2021Kokugo/question2.conllu\n",
        "!sh UD-KyotsuTest2021Kokugo/spacy.sh suparunidic 'load(UniDic=\"gendai\",BERT=\"bert-base-japanese-char\")' UD-KyotsuTest2021Kokugo/question2.conllu\n",
        "!sh UD-KyotsuTest2021Kokugo/spacy.sh suparunidic 'load(UniDic=\"kindai\",BERT=\"bert-base-japanese-whole-word-masking\")' UD-KyotsuTest2021Kokugo/question2.conllu\n",
        "!sh UD-KyotsuTest2021Kokugo/spacy.sh suparunidic 'load(UniDic=\"gendai\",BERT=\"bert-base-japanese-whole-word-masking\")' UD-KyotsuTest2021Kokugo/question2.conllu\n",
        "!sh UD-KyotsuTest2021Kokugo/spacy.sh suparunidic 'load(UniDic=\"kindai\",BERT=\"electra-small-japanese-generator\")' UD-KyotsuTest2021Kokugo/question2.conllu\n",
        "!sh UD-KyotsuTest2021Kokugo/spacy.sh suparunidic 'load(UniDic=\"gendai\",BERT=\"electra-small-japanese-generator\")' UD-KyotsuTest2021Kokugo/question2.conllu\n",
        "!sh UD-KyotsuTest2021Kokugo/spacy.sh suparunidic 'load(UniDic=\"kindai\",BERT=\"ku-bert-japanese-large\")' UD-KyotsuTest2021Kokugo/question2.conllu\n",
        "!sh UD-KyotsuTest2021Kokugo/spacy.sh suparunidic 'load(UniDic=\"gendai\",BERT=\"ku-bert-japanese-large\")' UD-KyotsuTest2021Kokugo/question2.conllu\n",
        "!sh UD-KyotsuTest2021Kokugo/spacy.sh suparunidic 'load(UniDic=\"kindai\",BERT=\"laboro-bert-japanese-large\")' UD-KyotsuTest2021Kokugo/question2.conllu\n",
        "!sh UD-KyotsuTest2021Kokugo/spacy.sh suparunidic 'load(UniDic=\"gendai\",BERT=\"laboro-bert-japanese-large\")' UD-KyotsuTest2021Kokugo/question2.conllu\n",
        "!sh UD-KyotsuTest2021Kokugo/spacy.sh suparunidic 'load(UniDic=\"kindai\",BERT=\"nict-bert-base-japanese-100k\")' UD-KyotsuTest2021Kokugo/question2.conllu\n",
        "!sh UD-KyotsuTest2021Kokugo/spacy.sh suparunidic 'load(UniDic=\"gendai\",BERT=\"nict-bert-base-japanese-100k\")' UD-KyotsuTest2021Kokugo/question2.conllu\n",
        "!sh UD-KyotsuTest2021Kokugo/spacy.sh suparunidic 'load(UniDic=\"kindai\",BERT=\"albert-japanese-v2\")' UD-KyotsuTest2021Kokugo/question2.conllu\n",
        "!sh UD-KyotsuTest2021Kokugo/spacy.sh suparunidic 'load(UniDic=\"gendai\",BERT=\"albert-japanese-v2\")' UD-KyotsuTest2021Kokugo/question2.conllu\n",
        "!sh UD-KyotsuTest2021Kokugo/spacy.sh suparunidic 'load(UniDic=\"kindai\",BERT=\"unihanlm-base\")' UD-KyotsuTest2021Kokugo/question2.conllu\n",
        "!sh UD-KyotsuTest2021Kokugo/spacy.sh suparunidic 'load(UniDic=\"gendai\",BERT=\"unihanlm-base\")' UD-KyotsuTest2021Kokugo/question2.conllu\n",
        "!sh UD-KyotsuTest2021Kokugo/spacy.sh suparunidic 'load(UniDic=\"kindai\",BERT=\"distilbert-base-japanese\")' UD-KyotsuTest2021Kokugo/question2.conllu\n",
        "!sh UD-KyotsuTest2021Kokugo/spacy.sh suparunidic 'load(UniDic=\"gendai\",BERT=\"distilbert-base-japanese\")' UD-KyotsuTest2021Kokugo/question2.conllu\n",
        "print(\"### done.\")"
      ]
    }
  ]
}

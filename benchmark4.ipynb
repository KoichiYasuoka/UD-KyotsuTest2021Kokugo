{
  "nbformat":4,
  "nbformat_minor":0,
  "metadata":{
    "colab":{ "name":"共通テスト2021『国語』問題文Universal Dependencies" },
    "kernelspec":{ "name":"python3" }
  },
  "cells":[
    {
      "cell_type":"markdown",
      "metadata":{ "colab_type":"text" },
      "source":[
        "# [共通テスト2021『国語』問題文Universal Dependencies](https://github.com/KoichiYasuoka/UD-KyotsuTest2021Kokugo)\n"
      ]
    },
    {
      "cell_type":"markdown",
      "metadata":{ "colab_type":"text" },
      "source":[
        "## 第4問ベンチマーク\n"
      ]
    },
    {
      "cell_type":"markdown",
      "metadata":{ "colab_type":"text" },
      "source":[
        "### UD-Kanbun\n"
      ]
    },
    {
      "cell_type":"code",
      "metadata":{ "colab_type":"code" },
      "source":[
        "!test -d UD-KyotsuTest2021Kokugo || git clone --depth=1 https://github.com/KoichiYasuoka/UD-KyotsuTest2021Kokugo\n",
        "!pip install supar@git+https://github.com/yzhangcs/parser\n",
        "!pip install udkanbun\n",
        "!sh UD-KyotsuTest2021Kokugo/udkanbun.sh udkanbun 'load(BERT=\"guwenbert-base\")' UD-KyotsuTest2021Kokugo/question4-1.conllu\n",
        "!sh UD-KyotsuTest2021Kokugo/udkanbun.sh udkanbun 'load(BERT=\"guwenbert-base\")' UD-KyotsuTest2021Kokugo/question4-2.conllu\n",
        "!sh UD-KyotsuTest2021Kokugo/udkanbun.sh udkanbun 'load(BERT=\"guwenbert-large\")' UD-KyotsuTest2021Kokugo/question4-1.conllu\n",
        "!sh UD-KyotsuTest2021Kokugo/udkanbun.sh udkanbun 'load(BERT=\"guwenbert-large\")' UD-KyotsuTest2021Kokugo/question4-2.conllu\n",
        "!sh UD-KyotsuTest2021Kokugo/udkanbun.sh udkanbun 'load(BERT=None)' UD-KyotsuTest2021Kokugo/question4-1.conllu\n",
        "!sh UD-KyotsuTest2021Kokugo/udkanbun.sh udkanbun 'load(BERT=None)' UD-KyotsuTest2021Kokugo/question4-2.conllu\n",
        "print(\"### done.\")"
      ]
    }
  ]
}

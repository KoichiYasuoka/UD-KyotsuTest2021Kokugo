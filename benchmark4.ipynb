{
  "nbformat":4,
  "nbformat_minor":0,
  "metadata":{
    "colab":{ "name":"共通テスト2021『国語』問題文Universal Dependencies" },
    "kernelspec":{ "name":"python3" }
  },
  "cells":[
    {
      "cell_type":"markdown",
      "metadata":{ "colab_type":"text" },
      "source":[
        "# [共通テスト2021『国語』問題文Universal Dependencies](https://github.com/KoichiYasuoka/UD-KyotsuTest2021Kokugo)\n"
      ]
    },
    {
      "cell_type":"markdown",
      "metadata":{ "colab_type":"text" },
      "source":[
        "## 第4問ベンチマーク\n"
      ]
    },
    {
      "cell_type":"markdown",
      "metadata":{ "colab_type":"text" },
      "source":[
        "### SuPar-Kanbun\n"
      ]
    },
    {
      "cell_type":"code",
      "metadata":{ "colab_type":"code" },
      "source":[
        "!test -d UD-KyotsuTest2021Kokugo || git clone --depth=1 https://github.com/KoichiYasuoka/UD-KyotsuTest2021Kokugo\n",
        "!sudo pip install -U spacy\n",
        "!pip install suparkanbun\n",
        "!sh UD-KyotsuTest2021Kokugo/spacy3.sh suparkanbun 'load(BERT=\"guwenbert-base\")' UD-KyotsuTest2021Kokugo/question4-1.conllu\n",
        "!sh UD-KyotsuTest2021Kokugo/spacy3.sh suparkanbun 'load(BERT=\"guwenbert-base\")' UD-KyotsuTest2021Kokugo/question4-2.conllu\n",
        "!sh UD-KyotsuTest2021Kokugo/spacy3.sh suparkanbun 'load(BERT=\"guwenbert-large\")' UD-KyotsuTest2021Kokugo/question4-1.conllu\n",
        "!sh UD-KyotsuTest2021Kokugo/spacy3.sh suparkanbun 'load(BERT=\"guwenbert-large\")' UD-KyotsuTest2021Kokugo/question4-2.conllu\n",
        "print(\"### done.\")"
      ]
    },
    {
      "cell_type":"markdown",
      "metadata":{ "colab_type":"text" },
      "source":[
        "### UD-Kanbun\n"
      ]
    },
    {
      "cell_type":"code",
      "metadata":{ "colab_type":"code" },
      "source":[
        "!test -d UD-KyotsuTest2021Kokugo || git clone --depth=1 https://github.com/KoichiYasuoka/UD-KyotsuTest2021Kokugo\n",
        "!pip install udkanbun 'supar>=1.0.1a1'\n",
        "!sh UD-KyotsuTest2021Kokugo/udkanbun.sh udkanbun 'load(BERT=\"guwenbert-base\")' UD-KyotsuTest2021Kokugo/question4-1.conllu\n",
        "!sh UD-KyotsuTest2021Kokugo/udkanbun.sh udkanbun 'load(BERT=\"guwenbert-base\")' UD-KyotsuTest2021Kokugo/question4-2.conllu\n",
        "!sh UD-KyotsuTest2021Kokugo/udkanbun.sh udkanbun 'load(BERT=\"guwenbert-large\")' UD-KyotsuTest2021Kokugo/question4-1.conllu\n",
        "!sh UD-KyotsuTest2021Kokugo/udkanbun.sh udkanbun 'load(BERT=\"guwenbert-large\")' UD-KyotsuTest2021Kokugo/question4-2.conllu\n",
        "!sh UD-KyotsuTest2021Kokugo/udkanbun.sh udkanbun 'load(BERT=None)' UD-KyotsuTest2021Kokugo/question4-1.conllu\n",
        "!sh UD-KyotsuTest2021Kokugo/udkanbun.sh udkanbun 'load(BERT=None)' UD-KyotsuTest2021Kokugo/question4-2.conllu\n",
        "print(\"### done.\")"
      ]
    },
    {
      "cell_type":"markdown",
      "metadata":{ "colab_type":"text" },
      "source":[
        "### GuwenCOMBO\n"
      ]
    },
    {
      "cell_type":"code",
      "metadata":{ "colab_type":"code" },
      "source":[
        "!test -d UD-KyotsuTest2021Kokugo || git clone --depth=1 https://github.com/KoichiYasuoka/UD-KyotsuTest2021Kokugo\n",
        "!pip install guwencombo\n",
        "!sh UD-KyotsuTest2021Kokugo/udkanbun.sh guwencombo 'load(BERT=\"guwenbert-base\")' UD-KyotsuTest2021Kokugo/question4-1.conllu\n",
        "!sh UD-KyotsuTest2021Kokugo/udkanbun.sh guwencombo 'load(BERT=\"guwenbert-base\")' UD-KyotsuTest2021Kokugo/question4-2.conllu\n",
        "!sh UD-KyotsuTest2021Kokugo/udkanbun.sh guwencombo 'load(BERT=\"guwenbert-large\")' UD-KyotsuTest2021Kokugo/question4-1.conllu\n",
        "!sh UD-KyotsuTest2021Kokugo/udkanbun.sh guwencombo 'load(BERT=\"guwenbert-large\")' UD-KyotsuTest2021Kokugo/question4-2.conllu\n",
        "!sh UD-KyotsuTest2021Kokugo/udkanbun.sh guwencombo 'load(BERT=None)' UD-KyotsuTest2021Kokugo/question4-1.conllu\n",
        "!sh UD-KyotsuTest2021Kokugo/udkanbun.sh guwencombo 'load(BERT=None)' UD-KyotsuTest2021Kokugo/question4-2.conllu\n",
        "print(\"### done.\")"
      ]
    },
    {
      "cell_type":"markdown",
      "metadata":{ "colab_type":"text" },
      "source":[
        "### Stanza\n"
      ]
    },
    {
      "cell_type":"code",
      "metadata":{ "colab_type":"code" },
      "source":[
        "!test -d UD-KyotsuTest2021Kokugo || git clone --depth=1 https://github.com/KoichiYasuoka/UD-KyotsuTest2021Kokugo\n",
        "!pip install stanza\n",
        "import stanza\n",
        "stanza.download(\"lzh\")\n",
        "!sh UD-KyotsuTest2021Kokugo/stanza.sh stanza 'Pipeline(\"lzh\")' UD-KyotsuTest2021Kokugo/question4-1.conllu\n",
        "!sh UD-KyotsuTest2021Kokugo/stanza.sh stanza 'Pipeline(\"lzh\")' UD-KyotsuTest2021Kokugo/question4-2.conllu\n",
        "print(\"### done.\")"
      ]
    }
  ]
}
